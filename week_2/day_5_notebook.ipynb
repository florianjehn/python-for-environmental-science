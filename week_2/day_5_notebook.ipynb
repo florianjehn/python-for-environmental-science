{
 "cells": [
  {
   "cell_type": "markdown",
   "metadata": {},
   "source": [
    "# Python for Environmental Science Day 5\n",
    "## Topics\n",
    "* String Manipulation\n",
    "* Datetime\n",
    "* Reading and Writing\n"
   ]
  },
  {
   "cell_type": "markdown",
   "metadata": {},
   "source": [
    "## String Manipulation\n",
    "Strings in Python are a bit special, because they behave like a list in many regards. For example you can get slices of strings. "
   ]
  },
  {
   "cell_type": "code",
   "execution_count": null,
   "metadata": {
    "collapsed": true,
    "scrolled": true
   },
   "outputs": [],
   "source": [
    "name = \"Paula\"\n",
    "print(name[1:3])"
   ]
  },
  {
   "cell_type": "markdown",
   "metadata": {},
   "source": [
    "You can loop over them."
   ]
  },
  {
   "cell_type": "code",
   "execution_count": null,
   "metadata": {
    "collapsed": true,
    "scrolled": true
   },
   "outputs": [],
   "source": [
    "for character in \"banana\":\n",
    "    print(character)"
   ]
  },
  {
   "cell_type": "markdown",
   "metadata": {},
   "source": [
    "And a large quantity of special functions exists, that merely handle strings. They are usually called from the string itself."
   ]
  },
  {
   "cell_type": "code",
   "execution_count": null,
   "metadata": {
    "collapsed": true,
    "scrolled": true
   },
   "outputs": [],
   "source": [
    "spell = \"fireball\"\n",
    "print(spell.capitalize())\n",
    "print(spell.upper())"
   ]
  },
  {
   "cell_type": "markdown",
   "metadata": {},
   "source": [
    "So you see that you can do much with strings. But there is one thing you cannot do: change parts of them. Strings are immutable. This makes them very handy as dictionary keys. \n",
    "\n",
    "To get a further introduction to strings take a look at those videos:\n",
    "\n",
    "* [Usage of \" \" and ' '](https://youtu.be/iAzShkKzpJo)\n",
    "* [Indexing, loops](https://youtu.be/SE4P7IVCunE) (you can stop watching at 21.30 min ... or continue watching if you want to learn a bit about computer science)\n",
    "* [Getting nicer string output](https://youtu.be/jA5LW3bR0Us)\n",
    "* [Escape characters](https://youtu.be/ktpW7NESuXA)\n",
    "\n",
    "And take a look at [this text](https://docs.python.org/2.4/lib/string-methods.html) to get an overview of string methods.\n"
   ]
  },
  {
   "cell_type": "markdown",
   "metadata": {},
   "source": [
    "### Practice Questions\n",
    "* What are escape characters?\n",
    "* Which purpose serve \\n and \\t?\n",
    "* What is the problem in the following line?"
   ]
  },
  {
   "cell_type": "code",
   "execution_count": null,
   "metadata": {
    "collapsed": true,
    "scrolled": true
   },
   "outputs": [],
   "source": [
    "print('I'm learning to program')"
   ]
  },
  {
   "cell_type": "markdown",
   "metadata": {},
   "source": [
    "* What does **\"Hello World!\"[-1]** evaluate to?\n",
    "* What does **\"Hello\".upper().isupper()** evaluate to?\n",
    "* How can you trim whitespaces from a string?"
   ]
  },
  {
   "cell_type": "markdown",
   "metadata": {},
   "source": [
    "### Exercise 1\n",
    "Write a function that accepts two parameters: character and word, counts how often character appears in the word and returns the amount.\n",
    "\n",
    "### Exercise 2\n",
    "Two words are anagrams if you can rearrange the letters from one to spell the other. Write a function called is_anagram that takes two strings and returns True if they are anagrams.\n",
    "\n",
    "Source. ThinkPython\n",
    "\n",
    "### Exercise 3\n",
    "Write a function that takes a string. The function should then capitalizes all characters in it and delete all whitespaces. Finally the string should be returned together with the length of the final product as a tuple."
   ]
  },
  {
   "cell_type": "markdown",
   "metadata": {},
   "source": [
    "## Datetime\n",
    "When you start to program a bit, sooner or later you will have to work with dates and believe me: It is not fun!"
   ]
  },
  {
   "cell_type": "markdown",
   "metadata": {},
   "source": [
    "<img src=\"http://www.explainxkcd.com/wiki/images/e/e8/supervillain_plan.png\" alt=\"Drawing\" style=\"width: 250px;\"/ align=\"left\">\n",
    "\n"
   ]
  },
  {
   "cell_type": "markdown",
   "metadata": {},
   "source": [
    "While this may sound like the things you will learn next will be horrible, there is a glimpse of hope on the horizon: the datetime module. While it is still a bit unwieldy it helps you a lot with anything related to dates and time. As it is a module that is already a part of your WinPython you can simply import it and ask it for the time."
   ]
  },
  {
   "cell_type": "code",
   "execution_count": null,
   "metadata": {
    "collapsed": true,
    "scrolled": true
   },
   "outputs": [],
   "source": [
    "import datetime\n",
    "print(datetime.datetime.now())"
   ]
  },
  {
   "cell_type": "markdown",
   "metadata": {},
   "source": [
    "Working with time is often aggravated by the [many misconceptions](https://infiniteundo.com/post/25326999628/falsehoods-programmers-believe-about-time) about time. Make sure you are aware of those. Take a look at [this video](https://youtu.be/RjMbCUpvIgw) to get an overview of the further functionality."
   ]
  },
  {
   "cell_type": "markdown",
   "metadata": {},
   "source": [
    "### Practice Questions\n",
    "* What is the difference between the time and the datetime module?\n",
    "* Why can't I just simply make my own simple calculations with dates without having to learn using datetime?\n",
    "* Can you convert strings to dates and vice versa?\n",
    "* What is a timedelta and how is it used?"
   ]
  },
  {
   "cell_type": "markdown",
   "metadata": {},
   "source": [
    "### Exercise 4\n",
    "The time module has function called sleep, which allow you to pause you program for a defined amount of time. Use this to create a program with following specifications:\n",
    "* The program should check what time it is when it starts\n",
    "* The program should print \"Hello\" repeatedly until 10 seconds have passed since its initial startup\n",
    "* After every message the program should sleep for 0.7 seconds.\n",
    "\n",
    "### Exercise 5\n",
    "Write a program that takes a birthday as an input and prints the user's age and the number of month and days until their next birthday.\n",
    "\n",
    "Hint: datetime.timedelta does not know years, find a way around it.\n",
    "\n",
    "\n"
   ]
  },
  {
   "cell_type": "markdown",
   "metadata": {},
   "source": [
    "<img src=\"https://cdn.dopl3r.com/memes_files/when-you-search-stackoverflow-for-10-seconds-and-cant-find-the-solution-for-your-error-message-thanks-for-nothing-p8SMh.jpg\" alt=\"Drawing\" style=\"width: 250px;\"/ align=\"left\">"
   ]
  },
  {
   "cell_type": "markdown",
   "metadata": {},
   "source": [
    "### Exercise 6\n",
    "\n",
    "For two people born on different days, there is a day when one is twice as old as the other. That is their Double Day. Write a program that takes two birthdays and computes their Double Day.\n",
    "\n",
    "Hint: This might give you some headache, but the solution is simpler than you think.\n",
    "\n",
    "Source: ThinkPython"
   ]
  },
  {
   "cell_type": "markdown",
   "metadata": {},
   "source": [
    "## Reading and Writing Files\n",
    "Up until now we hardcoded the value of variables or asked a user for input. While this are things that are quite useful, in environmental science you mainly have to deal with files that have been provided by you. After you have worked with those files, it is usually expected that you sent back a file with your results. Therefore, reading and writing files is a very important skill. One important package when handling files is the os module."
   ]
  },
  {
   "cell_type": "code",
   "execution_count": null,
   "metadata": {
    "collapsed": true,
    "scrolled": true
   },
   "outputs": [],
   "source": [
    "import os\n",
    "# Gets the current working directory\n",
    "print(os.getcwd())"
   ]
  },
  {
   "cell_type": "markdown",
   "metadata": {},
   "source": [
    "The os module helps you to find files, use the correct directory and handles your interaction with the filesystem overall. The reading and writing themselves are so important that they are covered in the basic Python syntax. Take a look at [this video](https://youtu.be/4mX0uPQFLDU) to get the basics and [this video](https://youtu.be/Uh2ebFW8OYM) to get a broader overview."
   ]
  },
  {
   "cell_type": "markdown",
   "metadata": {},
   "source": [
    "### Practice Questions\n",
    "* What is the difference between an absolute and a relative path?\n",
    "* What happens if an existing file is opened in write mode?\n",
    "* What is the difference between the read() and the readlines() methods?\n",
    "* What are the different modes you can use the open() function with?"
   ]
  },
  {
   "cell_type": "markdown",
   "metadata": {},
   "source": [
    "### Exercise 7\n",
    "Write a function that creates 10 files in the current working directory. The files should contain a random number between 0 and 1. The name should consist of a timestamp (use time).\n",
    "\n",
    "Hint: Computers are fast, consider this with the timestamp.\n",
    "\n",
    "Hint: Files need a file extension to be happy.\n",
    "\n",
    "Hint: 'with' is a very useful keyword."
   ]
  },
  {
   "cell_type": "code",
   "execution_count": null,
   "metadata": {
    "collapsed": true
   },
   "outputs": [],
   "source": [
    "import random\n",
    "import time\n",
    "def create_files()\n",
    "    # your code comes here"
   ]
  },
  {
   "cell_type": "markdown",
   "metadata": {},
   "source": [
    "### Exercise 8\n",
    "Use the files created in exercise 7. \n",
    "Your are required to do the following now:\n",
    "* Read in all the created files\n",
    "* Determine if the original value saved in the files is above 0.5\n",
    "* Save the file with the original value as name\n",
    "* The file should contain the timestamp converted to date format, followed by two empty lines, followed by a 1 if the original value was above 0.5 and a 0 otherwise. \n",
    "\n",
    "Hint: Use 'os' to  get the file names.\n",
    "\n",
    "Hint: Consider that not all files in the directory have the file extension you want."
   ]
  },
    {
   "cell_type": "markdown",
   "metadata": {},
   "source": [
    "### Exercise 9\n",
    "\n",
    "Write a program which calculates the absolute t-value for a two-sided, unpaired T-test of the data a and b you see below\n",
    "(nitrate concentration [mg/l] of two rivers). You don’t need to concern about normal\n",
    "distribution or variance homogeneity, let’s just assume the conditions are fulfilled. The program should print the absolute t-value\n",
    "and the degree of freedom. Use functions to process the intermediary steps. Compare the result afterwards to the tabular t-value\n", 
    "[here](https://www.medcalc.org/manual/t-distribution.php) with alpha = 0,05 and your calculated t-value. Could you find significant\n",
    "differences? Remember that there is a significant difference if calculated t-value > tabular t-value.\n",
    "\n",
    "Hint: Follow this link [here](http://statstutordevelopment.lboro.ac.uk/resources/uploaded/unpaired-t-test.pdf) and [here](https://en.wikipedia.org/wiki/Standard_deviation) to find all the equations you need.\n"
   ]
  },
    {
   "cell_type": "code",
   "execution_count": 4,
   "metadata": {},
   "outputs": [],
   "source": [
    "a = [0.6014,0.6031,0.6143,0.6247,0.6239,0.6251,0.6289,0.6344,0.6378,0.6383,0.6372,0.6361,0.6316,\n",
     "0.6271,0.6247,0.6272,0.6296,0.6278,0.6256,0.6263,0.6297,0.6344,0.6381,0.6432,0.6452,0.6375,\n",
     "0.6281,0.6204,0.6216,0.6149,0.6147,0.6134,0.6255,0.6311,0.6333,0.6298,0.6295,0.6377,0.6409,\n",
     "0.6427,0.6369,0.6366,0.6340,0.6345,0.6358,0.6392,0.6373,0.6327,0.6214,0.6161,0.6123,0.6202,\n",
     "0.6269,0.6317,0.6298,0.6280,0.6323,0.6303,0.6275,0.6203,0.6198,0.6202,0.6206,0.6224,0.6247,\n",
     "0.6265,0.6246,0.6223,0.6205,0.6173,0.6129,0.6086,0.6074,0.6108,0.6084,0.6073,0.6022,0.6041,\n",
     "0.6004,0.5958,0.5891,0.5862,0.5911,0.6011,0.6082,0.6052,0.5976,0.5946,0.5964,0.6000,0.5984,\n",
     "0.5950,0.5913,0.5910,0.5908,0.5883,0.5885,0.5887,0.5914,0.5891,0.5865,0.5839,0.5847,0.5859,\n",
     "0.5850,0.5829,0.5815,0.5877,0.5945,0.5996,0.5993,0.5983,0.6002,0.5992,0.5985,0.5959,0.5962,\n",
     "0.5969,0.5976,0.5982,0.6020,0.6002,0.5984,0.5893,0.5858,0.5905,0.5990,0.6075,0.6034,0.5990,\n",
     "0.5932,0.5912,0.5880,0.5826,0.5768,0.5737,0.5782,0.5853,0.5918,0.6014,0.6093,0.6164,0.6175,\n",
     "0.6140,0.5911,0.6011,0.6082,0.6052,0.5976,0.5946,0.5964,0.6298,0.6280,0.6323]\n",
     "\n",
     "b = [0.4562,0.4518,0.4532,0.4473,0.4478,0.4360,0.4389,0.4346,0.4395,0.4325,0.4293,0.4307,0.4363,\n",
     "0.4431,0.4455,0.4380,0.4292,0.4230,0.4255,0.4280,0.4269,0.4226,0.4184,0.4169,0.4261,0.4277,0.4273,\n",
     "0.4193,0.4189,0.4184,0.4169,0.4153,0.4192,0.4240,0.4269,0.4218,0.4147,0.4116,0.4136,0.4176,0.4190,\n",
     "0.4167,0.4096,0.4079,0.4036,0.4072,0.4059,0.4101,0.4119,0.4135,0.4140,0.4106,0.4068,0.4023,0.3993,\n",
     "0.3967,0.3963,0.4024,0.4086,0.4180,0.4228,0.4228,0.4096,0.3933,0.3817,0.3894,0.4002,0.4110,0.4058,\n",
     "0.4057,0.4155,0.4304,0.4329,0.4226,0.4123,0.4093,0.4070,0.4048,0.4062,0.4099,0.4135,0.4134,0.4133,\n",
     "0.4116,0.4096,0.4077,0.4075,0.4071,0.4062,0.4056,0.4053,0.4053,0.4097,0.4141,0.4186,0.4129,0.4141,\n",
     "0.3996,0.4021,0.3949,0.4033,0.4003,0.4003,0.4005,0.4007,0.4003,0.3996,0.4041,0.4094,0.4042,0.3919,\n",
     "0.3815,0.3768,0.3755,0.3709,0.3725,0.3714,0.3720,0.3709,0.3720,0.3731,0.3743,0.3732,0.3702,0.3672,\n",
     "0.3661,0.3691,0.3734,0.3769,0.3783,0.3741,0.3688,0.3601,0.3591,0.3556,0.3577,0.3549,0.3557,0.3543,\n",
     "0.3583,0.3623,0.3663,0.3637,0.3617,0.3590,0.3582,0.3564,0.3534]\n"
     ]
  }


 ],
 "metadata": {
  "kernelspec": {
   "display_name": "Python 3",
   "language": "python",
   "name": "python3"
  },
  "language_info": {
   "codemirror_mode": {
    "name": "ipython",
    "version": 3
   },
   "file_extension": ".py",
   "mimetype": "text/x-python",
   "name": "python",
   "nbconvert_exporter": "python",
   "pygments_lexer": "ipython3",
   "version": "3.6.1"
  }
 },
 "nbformat": 4,
 "nbformat_minor": 2
}
