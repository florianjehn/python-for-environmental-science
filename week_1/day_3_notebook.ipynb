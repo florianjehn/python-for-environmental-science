{
 "cells": [
  {
   "cell_type": "markdown",
   "metadata": {
    "collapsed": true
   },
   "source": [
    "# Python for Environmental Science Day 3\n",
    "## Topics\n",
    "* Functions in Python\n",
    "* Catching Errors in Python\n",
    "\n",
    "## What the heck is a function?\n",
    "Functions are time saver. A good programmer is a lazy programmer. If you have the possibility not to write something, it is usually a good idea to do so. And this is were functions come into play. They allow you to recycle code you have already written. You might not have noticed it, but you have already used funcions. For example math.sqrt() is a function. A simple example for a function would be:"
   ]
  },
  {
   "cell_type": "code",
   "execution_count": 1,
   "metadata": {
    "scrolled": true
   },
   "outputs": [
    {
     "name": "stdout",
     "output_type": "stream",
     "text": [
      "How do you do, fellow kids?\n",
      "How do you do, fellow kids?\n"
     ]
    }
   ],
   "source": [
    "def buscemi():\n",
    "    print(\"How do you do, fellow kids?\")\n",
    "\n",
    "buscemi()\n",
    "buscemi()"
   ]
  },
  {
   "cell_type": "markdown",
   "metadata": {},
   "source": [
    "So as you can see functions allow you to call code again, which you have already written in a previous part of your program. \n",
    "\n",
    "Again, MIT gives a very good introduction [here](https://youtu.be/MjbuarJ7SE0?t=2m6s).\n",
    "### Practice Questions\n",
    "\n",
    "* During the talk the concepts of abstraction and decompostion are introduced. What do they mean?\n",
    "* What is the scope of a function and what does it do?\n",
    "\n",
    "\n",
    "\n",
    "## Why functions?\n",
    "* Less work, as you can recycle code\n",
    "* Less errors, as you only have to debug once\n",
    "* Allows you to structure your code more easily\n",
    "* Allows other people (and your future self) to understand the code more easily\n",
    "\n",
    "\n",
    "## Function Charateristics\n",
    "A function consists of several parts (as mentioned in the MIT video). Here is a little overview and later we will try to understand them in more depth.\n",
    "\n",
    "\n",
    "* **Name**: What you call the function by\n",
    "* **Parameters**: You can provide functions with variables. Those variables can then be used to compute something. An additional short explanation of functions and parameters can be found [here](https://www.youtube.com/watch?v=NE97ylAnrz4).\n",
    "* **Docstring**: A docstring allows you to write a little documentation were you explain how the function works (in our stage mainly for your future self)\n",
    "* **Body**: This is were the magic happens, as here is the place for the code itself\n",
    "* **Return values**: You usually create functions to do something that create a result. For example you could create a function that adds two numbers. The problem is that the result is \"trapped\" in our function, as it is deleted once the function terminates. But with the return keyword you can specify that your function should return the results to the main program. If you are confused about return values take a look at [this video](https://youtu.be/PgrlkpleEuw).\n",
    "\n",
    "The following figure explains this visually (except docstrings, which are explained [here](http://www.pythonforbeginners.com/basics/python-docstrings)).\n",
    "\n",
    "![Functions](https://mpicbg-scicomp.github.io/dlbc17-python-intro/fig/python-function.svg)\n",
    "\n",
    "### Practice Questions\n",
    "* Functions seem confusing to me. Is this normal?\n",
    "* What is the syntax of a docstring?\n",
    "* What things should you write in your docstring?\n",
    "* Explain the concept of return values in your own words.\n",
    "* Can a function have more than one parameter and return value?\n",
    "* Can you give a function as a parameter to another function?\n",
    "* What is the difference between a normal and a keyword function?\n",
    "* What is allowed for a function name?\n",
    "* Can you call a function within a function?\n",
    "* What does a function return when you do not have a return statement?\n",
    "* What is \"None\"?\n",
    "* What is the difference between printing a value in a function instead of returning it?\n",
    "* Why is this a bad idea?\n",
    "\n",
    "\n",
    "<img src=\"http://devhumor.com/content/uploads/images/March2018/global_variable.jpg\" alt=\"Drawing\" style=\"width: 200px;\"/ align=\"left\">\n"
   ]
  },
  {
   "cell_type": "markdown",
   "metadata": {},
   "source": [
    "## Catching Errors in Python (Making Exceptions)\n",
    "Usually errors occur in Python when you did something wrong and this is how it is supposed to be. But problems can arise when you did nothing wrong and your program terminates. A common example is user input. Think back to the program we used yesterday were you asked the user for the price of the vacation and so forth. You just assumed that a sane person would enter a number if asked for a price, but they could easily typed in a string. Now you have a problem, as you told the program to convert the user input to a number, but you cannot convert a word to a number in a meaningful way. And this is were error catching comes into play. \n",
    "\n",
    "It allows you to foresee such actions and tell the program what it should do if this happens. Try if for yourself."
   ]
  },
  {
   "cell_type": "code",
   "execution_count": null,
   "metadata": {
    "collapsed": true
   },
   "outputs": [],
   "source": [
    "price = float(input(\"What is the price? \"))"
   ]
  },
  {
   "cell_type": "markdown",
   "metadata": {},
   "source": [
    "Now try the same problem with error catching."
   ]
  },
  {
   "cell_type": "code",
   "execution_count": null,
   "metadata": {
    "collapsed": true
   },
   "outputs": [],
   "source": [
    "while True:\n",
    "    try:\n",
    "        price = float(input(\"What is the price? \"))\n",
    "        print(\"Good job. You managed to type a number!\")\n",
    "        break\n",
    "    except ValueError:\n",
    "        print(\"This was not a number. Please try again\")    "
   ]
  },
  {
   "cell_type": "markdown",
   "metadata": {},
   "source": [
    "So we see that error catching is quite useful. An additional explanation can be found [here](https://youtu.be/nlCKrKGHSSk). In the video different kinds of errors are explained and how to handle them. A further explanation can be found [here](https://wiki.python.org/moin/HandlingExceptions)."
   ]
  },
  {
   "cell_type": "markdown",
   "metadata": {
    "collapsed": true
   },
   "source": [
    "### Practice Questions\n",
    "* What is the difference between try-except and if-else?\n",
    "* When do you use exceptions?\n",
    "* Can I raise my own exceptions?\n",
    "* When should I use try-except?\n",
    "* What goes in the try clause? What goes in the except clause?"
   ]
  },
  {
   "cell_type": "markdown",
   "metadata": {
    "collapsed": true
   },
   "source": [
    "## Important note!\n",
    "Do not forget to write docstrings and [comments](https://i.redditmedia.com/VJKytXlRyG7b2K_DD2o5WZe0ri6eE9P24dBgbkBLZIA.jpg?fit=crop&crop=faces%2Centropy&arh=2&w=640&s=b8789096d10eacaa513e0b1ad06b9afd) in all your code!"
   ]
  },
  {
   "cell_type": "markdown",
   "metadata": {},
   "source": [
    "### Exercise 1\n",
    "Write a function that takes the volume and height of a rectangular pyramid and returns the length of one base side of the pyramid.\n",
    "\n",
    "Hint: The math package might be useful here.\n",
    "\n",
    "### Exercise 2 \n",
    "Go through the following functions and determine what will be printed. When you have finished execute the program to see if you were right. If so, great. If not, try to find out were you went wrong.\n",
    "\n",
    "Source: ThinkPython"
   ]
  },
  {
   "cell_type": "code",
   "execution_count": null,
   "metadata": {
    "collapsed": true
   },
   "outputs": [],
   "source": [
    "def b(z):\n",
    "    prod = a(z, z)\n",
    "    print(z, prod)\n",
    "    return prod\n",
    "def a(x, y):\n",
    "    x = x + 1\n",
    "    return x * y\n",
    "def c(x, y, z):\n",
    "    total = x + y + z\n",
    "    square = b(total)**2\n",
    "    return square\n",
    "x = 1\n",
    "y = x + 1\n",
    "print(c(x, y+3, x+y))"
   ]
  },
  {
   "cell_type": "markdown",
   "metadata": {},
   "source": [
    "### Exercise 3\n",
    "A function object is a value you can assign to a variable or pass as an argument. For\n",
    "example, do_twice is a function that takes a function object as an argument and calls it twice:"
   ]
  },
  {
   "cell_type": "code",
   "execution_count": null,
   "metadata": {
    "collapsed": true
   },
   "outputs": [],
   "source": [
    "def do_twice(f):\n",
    "    f()\n",
    "    f()"
   ]
  },
  {
   "cell_type": "markdown",
   "metadata": {},
   "source": [
    "Here’s an example that uses do_twice to call a function named print_spam twice.\n"
   ]
  },
  {
   "cell_type": "code",
   "execution_count": null,
   "metadata": {
    "collapsed": true
   },
   "outputs": [],
   "source": [
    "def print_spam():\n",
    "    print('spam')\n",
    "    do_twice(print_spam)"
   ]
  },
  {
   "cell_type": "markdown",
   "metadata": {},
   "source": [
    "* Type this example into a script and test it.\n",
    "* Modify do_twice so that it takes two arguments, a function object and a value, and calls the\n",
    "function twice, passing the value as an argument.\n",
    "* Copy the definition of print_twice from here into your script.\n",
    "\n"
   ]
  },
  {
   "cell_type": "code",
   "execution_count": null,
   "metadata": {
    "collapsed": true
   },
   "outputs": [],
   "source": [
    "def print_twice(to_print):\n",
    "    print(to_print)\n",
    "    print(to_print)"
   ]
  },
  {
   "cell_type": "markdown",
   "metadata": {},
   "source": [
    "* Use the modified version of do_twice to call print_twice twice, passing 'spam' as an\n",
    "argument.\n",
    "* Define a new function called do_four that takes a function object and a value and calls the\n",
    "function four times, passing the value as a parameter. There should be only two statements in\n",
    "the body of this function, not four.\n",
    "* Call do_four() with reasonable parameters.\n",
    "\n",
    "Source: ThinkPython\n"
   ]
  },
  {
   "cell_type": "markdown",
   "metadata": {},
   "source": [
    "### Exercise 4\n",
    "Write a function that prompts a user for numbers until the user types \"done\". Then return the aggregated result and print it. Make sure that the program knows what to do if the user enters anything that is neither a number nor \"done\". "
   ]
  },
  {
   "cell_type": "code",
   "execution_count": null,
   "metadata": {},
   "outputs": [],
   "source": []
  },
  {
   "cell_type": "markdown",
   "metadata": {},
   "source": [
    "### Exercise 5\n",
    "Write a function named collatz() that has one parameter named number. If\n",
    "number is even, then collatz() should print number // 2 and return this value.\n",
    "If number is odd, then collatz() should print and return 3 * number + 1.\n",
    "\n",
    "Then write a program that lets the user type in an integer and that keeps\n",
    "calling collatz() on that number until the function returns the value 1.\n",
    "(Amazingly enough, this sequence actually works for any integer—sooner\n",
    "or later, using this sequence, you’ll arrive at 1! Even mathematicians aren’t\n",
    "sure why. Your program is exploring what’s called the Collatz sequence, sometimes called “the simplest impossible math problem.”)\n",
    "\n",
    "Remember to convert the return value from input() to an integer with\n",
    "the int() function; otherwise, it will be a string value.\n",
    "\n",
    "Hint: An integer number is even if number % 2 == 0, and it’s odd if\n",
    "number % 2 == 1.\n",
    "\n",
    "The output of this program could look something like this:"
   ]
  },
  {
   "cell_type": "code",
   "execution_count": 2,
   "metadata": {},
   "outputs": [
    {
     "ename": "SyntaxError",
     "evalue": "invalid syntax (<ipython-input-2-a51aa4b3021c>, line 1)",
     "output_type": "error",
     "traceback": [
      "\u001b[1;36m  File \u001b[1;32m\"<ipython-input-2-a51aa4b3021c>\"\u001b[1;36m, line \u001b[1;32m1\u001b[0m\n\u001b[1;33m    Enter number:\u001b[0m\n\u001b[1;37m               ^\u001b[0m\n\u001b[1;31mSyntaxError\u001b[0m\u001b[1;31m:\u001b[0m invalid syntax\n"
     ]
    }
   ],
   "source": [
    "Enter number:\n",
    "3\n",
    "10\n",
    "5\n",
    "16\n",
    "8\n",
    "4\n",
    "2\n",
    "1"
   ]
  },
  {
   "cell_type": "markdown",
   "metadata": {},
   "source": [
    "Source: Automate the boring stuff with Python\n"
   ]
  },
  {
   "cell_type": "markdown",
   "metadata": {},
   "source": [
    "### Exercise 6\n",
    "\n",
    "Write a Function named fibonacci(n) that takes an integer n as parameter and prints the n-th element of the Fibonacci Sequence.\n",
    "You can prompt the user to specify which element he wants to calculate.\n",
    "\n",
    "Hint: Think about how the Sequence starts and how many elements of the sequence you need to calculate the next one.\n"
   ]
  },
  {
   "cell_type": "markdown",
   "metadata": {},
   "source": [
    "### Exercise 7\n",
    "\n",
    "Write a programm which asks the user to choose one of the following operations:\n",
    "\n",
    "a) squareroot\n",
    "\n",
    "b) power of two\n",
    "\n",
    "c) power of three\n",
    "\n",
    "d) logarithm naturalis\n",
    "\n",
    "Then ask for a number on which the operation should be executed. If the calculation was succesfully print the result, if not use error\n",
    "handling to tell the user what the problem was. It is always anoying to start a program over and over again. Try to keep it running so the\n",
    "user can execute as many operations as needed until an end keyword is entered so the program shuts down.\n",
    "\n",
    "Hint: To give the user a perfect user experience try to catch as many possible errors as you can.\n"
   ]
  }
 ],
 "metadata": {
  "kernelspec": {
   "display_name": "Python 3",
   "language": "python",
   "name": "python3"
  },
  "language_info": {
   "codemirror_mode": {
    "name": "ipython",
    "version": 3
   },
   "file_extension": ".py",
   "mimetype": "text/x-python",
   "name": "python",
   "nbconvert_exporter": "python",
   "pygments_lexer": "ipython3",
   "version": "3.6.5"
  }
 },
 "nbformat": 4,
 "nbformat_minor": 2
}
