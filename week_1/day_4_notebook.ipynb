{
 "cells": [
  {
   "cell_type": "markdown",
   "metadata": {},
   "source": [
    "# Python for Environmental Science Day 4\n",
    "## Topics\n",
    "* Python Data Structures\n",
    "    * Lists\n",
    "    * Tuples\n",
    "    * Sets\n",
    "    * Dictionaries\n",
    "    \n",
    "## General\n",
    "Up until now we only had one way to store data we got: variables. As you probably have already noticed this is sometimes a bit annoying as you have to create a new variable every time you want to save something. To tackle this problem several more elegant ways to store things exist in Python. To get a little overview watch [this video](https://youtu.be/bpqsPFPuX34). \n",
    "\n",
    "## Mutable/Immutable\n",
    "When using the different Python data structures you will often come across the terms mutable and immutable. They simply refer to the fact if you can change the elements in something you have saved or not. An example could be that you read in a file and you extracted some information out of it. You want to use that information later in your program for several calculations. To make sure that origin information will not be altered by any calculations, you can use a immutable type (Think of them like constants which are just fix). Watch [this video](https://youtu.be/sD3P0z1MFGE) to get an explanation that refers to real life objects. \n",
    "\n",
    "## Lists\n",
    "Lists are probably the data structure you will use most often. They store the values in the order you provide them with. They are defined with square brackets and can by iterated over. Also you can add and remove values from them easily. [This video](https://youtu.be/ohCDWZgNIU0) shows you a bit more on how lists work. "
   ]
  },
  {
   "cell_type": "code",
   "execution_count": 4,
   "metadata": {},
   "outputs": [
    {
     "name": "stdout",
     "output_type": "stream",
     "text": [
      "1\n",
      "bla\n",
      "38\n",
      "True\n",
      "[1, 'bla', 38, True, 5]\n",
      "[1, 'bla', 38, True]\n"
     ]
    }
   ],
   "source": [
    "# Definition\n",
    "my_list = [1, \"bla\", 38, True]\n",
    "# Iteration\n",
    "for item in my_list:\n",
    "    print(item)\n",
    "# Add something at the end\n",
    "my_list.append(5)\n",
    "print(my_list)\n",
    "# Remove the last item\n",
    "my_list.pop()\n",
    "print(my_list)"
   ]
  },
  {
   "cell_type": "markdown",
   "metadata": {},
   "source": [
    "**Tuples** behave very similar to lists. The main difference is that a tuple is immutable, while a list is mutable. Try changing the value of tuple and you will get an error."
   ]
  },
  {
   "cell_type": "code",
   "execution_count": 10,
   "metadata": {},
   "outputs": [
    {
     "name": "stdout",
     "output_type": "stream",
     "text": [
      "(1, 3, 4, 'bla', False)\n"
     ]
    },
    {
     "ename": "TypeError",
     "evalue": "'tuple' object does not support item assignment",
     "output_type": "error",
     "traceback": [
      "\u001b[1;31m---------------------------------------------------------------------------\u001b[0m",
      "\u001b[1;31mTypeError\u001b[0m                                 Traceback (most recent call last)",
      "\u001b[1;32m<ipython-input-10-0e46f0dc97da>\u001b[0m in \u001b[0;36m<module>\u001b[1;34m()\u001b[0m\n\u001b[0;32m      1\u001b[0m \u001b[0mmy_tuple\u001b[0m \u001b[1;33m=\u001b[0m \u001b[1;33m(\u001b[0m\u001b[1;36m1\u001b[0m\u001b[1;33m,\u001b[0m\u001b[1;36m3\u001b[0m\u001b[1;33m,\u001b[0m\u001b[1;36m4\u001b[0m\u001b[1;33m,\u001b[0m\u001b[1;34m\"bla\"\u001b[0m\u001b[1;33m,\u001b[0m \u001b[1;32mFalse\u001b[0m\u001b[1;33m)\u001b[0m\u001b[1;33m\u001b[0m\u001b[0m\n\u001b[0;32m      2\u001b[0m \u001b[0mprint\u001b[0m\u001b[1;33m(\u001b[0m\u001b[0mmy_tuple\u001b[0m\u001b[1;33m)\u001b[0m\u001b[1;33m\u001b[0m\u001b[0m\n\u001b[1;32m----> 3\u001b[1;33m \u001b[0mmy_tuple\u001b[0m\u001b[1;33m[\u001b[0m\u001b[1;36m1\u001b[0m\u001b[1;33m]\u001b[0m \u001b[1;33m=\u001b[0m \u001b[1;36m5\u001b[0m\u001b[1;33m\u001b[0m\u001b[0m\n\u001b[0m",
      "\u001b[1;31mTypeError\u001b[0m: 'tuple' object does not support item assignment"
     ]
    }
   ],
   "source": [
    "my_tuple = (1,3,4,\"bla\", False)\n",
    "print(my_tuple)\n",
    "my_tuple[1] = 5"
   ]
  },
  {
   "cell_type": "markdown",
   "metadata": {},
   "source": [
    "The error message tells us that we cannot assign a new value to any place in the tuple, e.g. it is immutable.\n",
    "\n",
    "**Sets** are also very similar to lists in there handling. Their main difference to lists is that they can only contain unique elements. So for example we could convert a list to a set to find all the unique values in it. Additional information on sets can be found  [here](https://youtu.be/sBvaPopWOmQ)."
   ]
  },
  {
   "cell_type": "code",
   "execution_count": 14,
   "metadata": {},
   "outputs": [
    {
     "name": "stdout",
     "output_type": "stream",
     "text": [
      "[1, 'bla', 38, True, 1, 'bla', 38, True, 1, 'bla', 38, True, 1, 'bla', 38, True, 1, 'bla', 38, True]\n",
      "{1, 'bla', 38}\n"
     ]
    }
   ],
   "source": [
    "my_long_list = my_list * 5\n",
    "print(my_long_list)\n",
    "my_set = set(my_long_list)\n",
    "print(my_set)"
   ]
  },
  {
   "cell_type": "markdown",
   "metadata": {},
   "source": [
    "### Practice Question\n",
    "* Why did the set not contain True?"
   ]
  },
  {
   "cell_type": "markdown",
   "metadata": {},
   "source": [
    "## Using Indexes\n",
    "Two very important concepts of lists (and many other types in Python) are **indexing** and **slicing**. \n",
    "* Indexing refers to the process that you want to get an item at a certain place. For example I want the second item (\"bla\") from the list we defined above:"
   ]
  },
  {
   "cell_type": "code",
   "execution_count": 5,
   "metadata": {},
   "outputs": [
    {
     "name": "stdout",
     "output_type": "stream",
     "text": [
      "bla\n"
     ]
    }
   ],
   "source": [
    "print(my_list[1])"
   ]
  },
  {
   "cell_type": "markdown",
   "metadata": {},
   "source": [
    "Notice that I used '1' to get the item at the second position. This is caused by Python starting to count with 0 ([for some seemingly smart reasons](https://softwareengineering.stackexchange.com/questions/110804/why-are-zero-based-arrays-the-norm)) instead of 1. It takes a while to get used to, but you will get it sooner or later. \n",
    "* Slicing on the other hand means that you want to get a up to several elements from a list (or other things that can be indexed). For example we want to have all the elements after the first one."
   ]
  },
  {
   "cell_type": "code",
   "execution_count": 8,
   "metadata": {},
   "outputs": [
    {
     "name": "stdout",
     "output_type": "stream",
     "text": [
      "['bla', 38, True]\n"
     ]
    }
   ],
   "source": [
    "print(my_list[1:])"
   ]
  },
  {
   "cell_type": "markdown",
   "metadata": {},
   "source": [
    "For a longer explanation see [here](https://stackoverflow.com/questions/509211/understanding-pythons-slice-notation). Note that all those nice indexing and slicing operations can also be performed on tuples."
   ]
  },
  {
   "cell_type": "code",
   "execution_count": 12,
   "metadata": {},
   "outputs": [
    {
     "name": "stdout",
     "output_type": "stream",
     "text": [
      "(1, 3, 4, 'bla', False)\n",
      "(3, 4, 'bla', False)\n",
      "1\n"
     ]
    }
   ],
   "source": [
    "print(my_tuple)\n",
    "print(my_tuple[1:])\n",
    "print(my_tuple[0])"
   ]
  },
  {
   "cell_type": "markdown",
   "metadata": {},
   "source": [
    "## List comprehension\n",
    "When you create list you often populate them by using a for loop. For example:"
   ]
  },
  {
   "cell_type": "code",
   "execution_count": 16,
   "metadata": {},
   "outputs": [
    {
     "name": "stdout",
     "output_type": "stream",
     "text": [
      "[0, 1, 2, 3, 4, 5, 6, 7, 8, 9]\n"
     ]
    }
   ],
   "source": [
    "a = []\n",
    "for i in range(10):\n",
    "    a.append(i)\n",
    "print(a)"
   ]
  },
  {
   "cell_type": "markdown",
   "metadata": {},
   "source": [
    "As this is such a frequently used operation a short form exists. The list comprehension. It does essentially the same but uses less space. "
   ]
  },
  {
   "cell_type": "code",
   "execution_count": 17,
   "metadata": {},
   "outputs": [
    {
     "name": "stdout",
     "output_type": "stream",
     "text": [
      "[0, 1, 2, 3, 4, 5, 6, 7, 8, 9]\n"
     ]
    }
   ],
   "source": [
    "a = [i for i in range(10)]\n",
    "print(a)"
   ]
  },
  {
   "cell_type": "markdown",
   "metadata": {},
   "source": [
    "For a bit more information see [here](https://stackoverflow.com/questions/19104760/list-comprehension-in-python-how-to)."
   ]
  },
  {
   "cell_type": "markdown",
   "metadata": {},
   "source": [
    "### Practice Questions\n",
    "* Can you have lists in lists?\n",
    "* Is it normal to get a headache when thinking about nested data structures?\n",
    "* What could my_list[-1] evaluate to?\n",
    "* What could my_list[:] evaluate to?\n",
    "* What happens when you try to add lists?\n",
    "* What happens when you try to multiply lists?\n",
    "* What is the difference between a tuple and a list?\n",
    "* When do I need to use list comprehension?"
   ]
  },
  {
   "cell_type": "markdown",
   "metadata": {},
   "source": [
    "### Exercise 1\n",
    "Write a function called middle that takes a list and returns a new list that contains all but the first and last elements.\n",
    "\n",
    "Source: ThinkPython\n",
    "\n",
    "\n",
    "### Exercise 2\n",
    "Write a function called is_sorted that takes a list as a parameter and returns True if the list is sorted in ascending order and False otherwise. For example given the list [1,2,2] the function would return True. \n",
    "\n",
    "Hint: Python has a built in function to sort things.\n",
    "\n",
    "Source: ThinkPython\n",
    "\n",
    "\n",
    "### Exercise 3\n",
    "Write a function called has_duplicates that takes a list and returns True if there is any element that appears more than once. It should not modify the original list. \n",
    "\n",
    "Hint: Use sets\n",
    "\n",
    "Source: ThinkPython\n",
    "\n",
    "### Exercise 4\n",
    "\n",
    "Write a Python program to count the elements in a list until an element is a tuple and returns the number.\n",
    "\n",
    "### Exercise 5\n",
    "This exercise pertains to the so-called [Birthday Paradox](https://en.wikipedia.org/wiki/Birthday_problem).\n",
    "If there are 23 students in your class, what are the chances that two of you have the same birthday?\n",
    "You can estimate this probability by generating random samples of 23 birthdays and checking for\n",
    "matches. \n",
    "\n",
    "Hint: you can generate random birthdays with the randint function in the random\n",
    "module. \n",
    "\n",
    "Hint: Store the bday not as date, but as day of the year (1-365)\n",
    "\n",
    "Hint: It is useful to write two seperate functions. One creating the birthdays and one checking for the probability.\n",
    "\n",
    "Hint: Do not start to code right away. First make a draft on paper on how you want to accomplish this exercise.\n",
    "\n",
    "Hint: You have to run the this program a few thousand times to get a useful probability.\n",
    "\n",
    "Hint: The function has_duplicates might be quite useful here.\n",
    "\n",
    "Source: ThinkPython\n",
    "\n",
    "<img src=\"https://i.imgur.com/SBm9vLU.jpg\" alt=\"Drawing\" style=\"width: 300px;\"/ align=\"left\">\n"
   ]
  },
  {
   "cell_type": "markdown",
   "metadata": {},
   "source": [
    "## Dictionaries\n",
    "The other data structure in Python you will use often are dictionaries. Dictionaries are pretty similar to their real life equivalent. They allow you to look things up. You can simply put in the key you look for and it will provide you with the matching value."
   ]
  },
  {
   "cell_type": "code",
   "execution_count": 18,
   "metadata": {},
   "outputs": [
    {
     "name": "stdout",
     "output_type": "stream",
     "text": [
      "42\n"
     ]
    }
   ],
   "source": [
    "my_dict = {\"First\": 1, \"Second\": 2, \"Truth\": 42}\n",
    "print(my_dict[\"Truth\"])"
   ]
  },
  {
   "cell_type": "markdown",
   "metadata": {},
   "source": [
    "The only rules is that the key must be immutable. As with lists you can iterate over dictionaries. You can choose to either iterate over the values, the keys or both."
   ]
  },
  {
   "cell_type": "code",
   "execution_count": 19,
   "metadata": {},
   "outputs": [
    {
     "name": "stdout",
     "output_type": "stream",
     "text": [
      "First\n",
      "Second\n",
      "Truth\n",
      "1\n",
      "2\n",
      "42\n",
      "First 1\n",
      "Second 2\n",
      "Truth 42\n"
     ]
    }
   ],
   "source": [
    "# Iterate over keys\n",
    "for key in my_dict.keys():\n",
    "    print(key)\n",
    "# Iterate over values\n",
    "for value in my_dict.values():\n",
    "    print(value)\n",
    "# Iterate over both\n",
    "for key, value in my_dict.items():\n",
    "    print(key, value)"
   ]
  },
  {
   "cell_type": "markdown",
   "metadata": {},
   "source": [
    "You can also have complex datatypes like lists in your dictionaries."
   ]
  },
  {
   "cell_type": "code",
   "execution_count": 20,
   "metadata": {},
   "outputs": [
    {
     "name": "stdout",
     "output_type": "stream",
     "text": [
      "{'First': 1, 'Second': 2, 'Truth': 42, 'list_entry': [1, 2, 'bla']}\n"
     ]
    }
   ],
   "source": [
    "my_dict[\"list_entry\"] = [1,2,\"bla\"]\n",
    "print(my_dict)"
   ]
  },
  {
   "cell_type": "markdown",
   "metadata": {},
   "source": [
    "For a more detailed explanation look [here](https://youtu.be/XCcpzWs-CI4).\n",
    "\n",
    "### Practice Questions\n",
    "* Can a list be a dictionary key?\n",
    "* What is the main difference between a list and a dictionary?\n",
    "* Are there ordered dictionaries?\n",
    "* What could be a use case for a dictionary?\n"
   ]
  },
  {
   "cell_type": "markdown",
   "metadata": {},
   "source": [
    "### Exercise 6\n",
    "You are creating a fantasy video game. The data structure to model the\n",
    "player’s inventory will be a dictionary where the keys are string values\n",
    "describing the item in the inventory and the value is an integer value detailing how many of that item the player has. For example, the dictionary value\n",
    "{'rope': 1, 'torch': 6, 'gold coin': 42, 'dagger': 1, 'arrow': 12} means the\n",
    "player has 1 rope, 6 torches, 42 gold coins, and so on.\n",
    "Write a function named display_inventory() that would take any possible inventory” and display it like the following:\n",
    "\n",
    "Inventory:\n",
    "\n",
    "12 arrow\n",
    "\n",
    "42 gold coin\n",
    "\n",
    "1 rope\n",
    "\n",
    "6 torch\n",
    "\n",
    "1 dagger\n",
    "\n",
    "Total number of items: 62\n",
    "\n",
    "Hint: You can use a for loop to loop through the dictionary.\n",
    "\n",
    "Source: Automate the boring stuff with Python\n",
    "\n",
    "### Exercise 7\n",
    "Imagine that a vanquished dragon’s loot is represented as a list of strings\n",
    "like this:"
   ]
  },
  {
   "cell_type": "code",
   "execution_count": null,
   "metadata": {
    "collapsed": true
   },
   "outputs": [],
   "source": [
    "dragon_loot = ['gold coin', 'dagger', 'gold coin', 'gold coin', 'ruby']"
   ]
  },
  {
   "cell_type": "markdown",
   "metadata": {},
   "source": [
    "Write a function named add_to_inventory(inventory, added_items), where the\n",
    "inventory parameter is a dictionary representing the player’s inventory (like\n",
    "in the previous project) and the added_items parameter is a list like dragon_loot.\n",
    "The add_to_inventory() function should return a dictionary that represents the\n",
    "updated inventory. Note that the added_items list can contain multiples of the\n",
    "same item. Your code could look something like this:"
   ]
  },
  {
   "cell_type": "code",
   "execution_count": null,
   "metadata": {
    "collapsed": true
   },
   "outputs": [],
   "source": [
    "def add_to_inventory(inventory, added_items):\n",
    "    # your code goes here\n",
    "    \n",
    "inv = {'gold coin': 42, 'rope': 1}\n",
    "dragon_loot = ['gold coin', 'dagger', 'gold coin', 'gold coin', 'ruby']\n",
    "inv = add_to_inventory(inv, dragon_loot)\n",
    "display_inventory(inv)"
   ]
  },
  {
   "cell_type": "markdown",
   "metadata": {},
   "source": [
    "The previous program (with your displayInventory() function from the\n",
    "previous project) would output the following:\n",
    "\n",
    "Inventory:\n",
    "\n",
    "45 gold coin\n",
    "\n",
    "1 rope\n",
    "\n",
    "1 ruby\n",
    "\n",
    "1 dagger\n",
    "\n",
    "Total number of items: 48\n",
    "\n",
    "Source: Automate the boring stuff with Python"
   ]
  },
  {
   "cell_type": "markdown",
   "metadata": {},
   "source": [
    "### Exercise 8\n",
    "\n",
    "Dictionary comprehensions are analogous to list comprehensions, but in a  \"key : value\" format instead of just \"value\" like in the list comprehension. Write a dictionary comprehension that has the numbers from 0 to 9 as keys and their squares as values."
   ]
  },
  {
   "cell_type": "markdown",
   "metadata": {},
   "source": [
    "### Exercise 9\n",
    "\n",
    "Write a program which calculates the absolute t-value for a two-sided, unpaired T-test of the data a and b you see below\n",
    "(nitrate concentration [mg/l] of two rivers). You don’t need to concern about normal\n",
    "distribution or variance homogeneity, let’s just assume the conditions are fulfilled. The program should print the absolute t-value\n",
    "and the degree of freedom. Use functions to process the intermediary steps. Compare the result afterwards to the tabular t-value\n", 
    "[here](https://www.medcalc.org/manual/t-distribution.php) with alpha = 0,05 and your calculated t-value. Could you find significant\n",
    "differences? Remember that there is a significant difference if calculated t-value > tabular t-value.\n",
    "\n",
    "Hint: Follow this link [here](http://statstutordevelopment.lboro.ac.uk/resources/uploaded/unpaired-t-test.pdf) and [here](https://en.wikipedia.org/wiki/Standard_deviation) to find all the equations you need.\n"
   ]
  },
    {
   "cell_type": "code",
   "execution_count": 4,
   "metadata": {},
   "outputs": [],
   "source": [
    "a = [0.6014,0.6031,0.6143,0.6247,0.6239,0.6251,0.6289,0.6344,0.6378,0.6383,0.6372,0.6361,0.6316,\n",
     "0.6271,0.6247,0.6272,0.6296,0.6278,0.6256,0.6263,0.6297,0.6344,0.6381,0.6432,0.6452,0.6375,\n",
     "0.6281,0.6204,0.6216,0.6149,0.6147,0.6134,0.6255,0.6311,0.6333,0.6298,0.6295,0.6377,0.6409,\n",
     "0.6427,0.6369,0.6366,0.6340,0.6345,0.6358,0.6392,0.6373,0.6327,0.6214,0.6161,0.6123,0.6202,\n",
     "0.6269,0.6317,0.6298,0.6280,0.6323,0.6303,0.6275,0.6203,0.6198,0.6202,0.6206,0.6224,0.6247,\n",
     "0.6265,0.6246,0.6223,0.6205,0.6173,0.6129,0.6086,0.6074,0.6108,0.6084,0.6073,0.6022,0.6041,\n",
     "0.6004,0.5958,0.5891,0.5862,0.5911,0.6011,0.6082,0.6052,0.5976,0.5946,0.5964,0.6000,0.5984,\n",
     "0.5950,0.5913,0.5910,0.5908,0.5883,0.5885,0.5887,0.5914,0.5891,0.5865,0.5839,0.5847,0.5859,\n",
     "0.5850,0.5829,0.5815,0.5877,0.5945,0.5996,0.5993,0.5983,0.6002,0.5992,0.5985,0.5959,0.5962,\n",
     "0.5969,0.5976,0.5982,0.6020,0.6002,0.5984,0.5893,0.5858,0.5905,0.5990,0.6075,0.6034,0.5990,\n",
     "0.5932,0.5912,0.5880,0.5826,0.5768,0.5737,0.5782,0.5853,0.5918,0.6014,0.6093,0.6164,0.6175,\n",
     "0.6140,0.5911,0.6011,0.6082,0.6052,0.5976,0.5946,0.5964,0.6298,0.6280,0.6323]\n",
     "\n",
     "b = [0.4562,0.4518,0.4532,0.4473,0.4478,0.4360,0.4389,0.4346,0.4395,0.4325,0.4293,0.4307,0.4363,\n",
     "0.4431,0.4455,0.4380,0.4292,0.4230,0.4255,0.4280,0.4269,0.4226,0.4184,0.4169,0.4261,0.4277,0.4273,\n",
     "0.4193,0.4189,0.4184,0.4169,0.4153,0.4192,0.4240,0.4269,0.4218,0.4147,0.4116,0.4136,0.4176,0.4190,\n",
     "0.4167,0.4096,0.4079,0.4036,0.4072,0.4059,0.4101,0.4119,0.4135,0.4140,0.4106,0.4068,0.4023,0.3993,\n",
     "0.3967,0.3963,0.4024,0.4086,0.4180,0.4228,0.4228,0.4096,0.3933,0.3817,0.3894,0.4002,0.4110,0.4058,\n",
     "0.4057,0.4155,0.4304,0.4329,0.4226,0.4123,0.4093,0.4070,0.4048,0.4062,0.4099,0.4135,0.4134,0.4133,\n",
     "0.4116,0.4096,0.4077,0.4075,0.4071,0.4062,0.4056,0.4053,0.4053,0.4097,0.4141,0.4186,0.4129,0.4141,\n",
     "0.3996,0.4021,0.3949,0.4033,0.4003,0.4003,0.4005,0.4007,0.4003,0.3996,0.4041,0.4094,0.4042,0.3919,\n",
     "0.3815,0.3768,0.3755,0.3709,0.3725,0.3714,0.3720,0.3709,0.3720,0.3731,0.3743,0.3732,0.3702,0.3672,\n",
     "0.3661,0.3691,0.3734,0.3769,0.3783,0.3741,0.3688,0.3601,0.3591,0.3556,0.3577,0.3549,0.3557,0.3543,\n",
     "0.3583,0.3623,0.3663,0.3637,0.3617,0.3590,0.3582,0.3564,0.3534]\n"
     ]
  }
 ],
 "metadata": {
  "kernelspec": {
   "display_name": "Python 3",
   "language": "python",
   "name": "python3"
  },
  "language_info": {
   "codemirror_mode": {
    "name": "ipython",
    "version": 3
   },
   "file_extension": ".py",
   "mimetype": "text/x-python",
   "name": "python",
   "nbconvert_exporter": "python",
   "pygments_lexer": "ipython3",
   "version": "3.6.5"
  }
 },
 "nbformat": 4,
 "nbformat_minor": 2
}
